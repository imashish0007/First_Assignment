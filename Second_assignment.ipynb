{
  "nbformat": 4,
  "nbformat_minor": 0,
  "metadata": {
    "colab": {
      "provenance": [],
      "authorship_tag": "ABX9TyMPfdzs/jA1bG7U2pAJQZ+o",
      "include_colab_link": true
    },
    "kernelspec": {
      "name": "python3",
      "display_name": "Python 3"
    },
    "language_info": {
      "name": "python"
    }
  },
  "cells": [
    {
      "cell_type": "markdown",
      "metadata": {
        "id": "view-in-github",
        "colab_type": "text"
      },
      "source": [
        "<a href=\"https://colab.research.google.com/github/imashish0007/First_Assignment/blob/main/Second_assignment.ipynb\" target=\"_parent\"><img src=\"https://colab.research.google.com/assets/colab-badge.svg\" alt=\"Open In Colab\"/></a>"
      ]
    },
    {
      "cell_type": "code",
      "execution_count": null,
      "metadata": {
        "id": "eYknXDVBzvlO"
      },
      "outputs": [],
      "source": [
        "Ques 1. Discuss string slicing and provide examples?\n"
      ]
    },
    {
      "cell_type": "markdown",
      "source": [
        "String slicing is a powerful technique in Python that allows you to extract specific portions of a string. It's achieved using the slicing operator [:]."
      ],
      "metadata": {
        "id": "yt4paAPo0DKC"
      }
    },
    {
      "cell_type": "markdown",
      "source": [
        "Basic Syntax - string[start:end:step]"
      ],
      "metadata": {
        "id": "AptDv_l-0Mvt"
      }
    },
    {
      "cell_type": "code",
      "source": [
        "#Example\n",
        "Name = \"Ashish Prakash\"\n",
        "First_name = Name[0:6]\n",
        "First_name"
      ],
      "metadata": {
        "colab": {
          "base_uri": "https://localhost:8080/",
          "height": 36
        },
        "id": "ZpnsuwBy0af3",
        "outputId": "ebbc0cc1-5dac-4cc6-9cc6-39d753fc04b2"
      },
      "execution_count": null,
      "outputs": [
        {
          "output_type": "execute_result",
          "data": {
            "text/plain": [
              "'Ashish'"
            ],
            "application/vnd.google.colaboratory.intrinsic+json": {
              "type": "string"
            }
          },
          "metadata": {},
          "execution_count": 1
        }
      ]
    },
    {
      "cell_type": "code",
      "source": [
        "Ques 2. Explain the key features of lists in Python?"
      ],
      "metadata": {
        "id": "iOemVci50oT3"
      },
      "execution_count": null,
      "outputs": []
    },
    {
      "cell_type": "markdown",
      "source": [
        "Lists in Python are versatile data structures that allow you to store and organize collections of items. They offer a wide range of features and operations that make them indispensable for various programming tasks. Here are some of the key features:\n",
        "\n",
        "1. Ordered and Mutable:\n",
        "\n",
        "Ordered: Elements in a list are stored in a specific sequence.\n",
        "Mutable: You can modify, add, or remove elements after the list is created.\n",
        "2. Heterogeneous:\n",
        "\n",
        "Lists can store elements of different data types within a single list.\n",
        "3. Dynamic Sizing:\n",
        "\n",
        "Lists can grow or shrink as needed during program execution.\n",
        "4. Indexing and Slicing:\n",
        "\n",
        "Indexing: Access individual elements using their index, starting from 0.\n",
        "Slicing: Extract specific portions of a list using the slicing operator [:].\n",
        "5. Common Operations:\n",
        "\n",
        "Appending Elements: list.append(element)\n",
        "Inserting Elements: list.insert(index, element)\n",
        "Removing Elements:\n",
        "list.remove(element): Removes the first occurrence of the element.\n",
        "list.pop(index): Removes the element at the specified index and returns it.\n",
        "Concatenating Lists: list1 + list2\n",
        "Repeating Elements: list * n\n",
        "Reversing a List: list.reverse()\n",
        "Sorting a List: list.sort()"
      ],
      "metadata": {
        "id": "eToA_wVw1I8O"
      }
    },
    {
      "cell_type": "code",
      "source": [
        "Ques 3. Describe how to access, modify, and delete elements in a list with examples?"
      ],
      "metadata": {
        "id": "oDtXlUTj1LkM"
      },
      "execution_count": null,
      "outputs": []
    },
    {
      "cell_type": "code",
      "source": [
        "#Examples\n",
        "My_list = [\"Ashish\",\"Aman\",\"Shreyas\",\"Rohit\"]\n",
        "#Access\n",
        "My_list[0]"
      ],
      "metadata": {
        "colab": {
          "base_uri": "https://localhost:8080/",
          "height": 36
        },
        "id": "WT4JldNR1ocC",
        "outputId": "701f363b-6b48-409a-e98a-f3fdcd8036da"
      },
      "execution_count": null,
      "outputs": [
        {
          "output_type": "execute_result",
          "data": {
            "text/plain": [
              "'Ashish'"
            ],
            "application/vnd.google.colaboratory.intrinsic+json": {
              "type": "string"
            }
          },
          "metadata": {},
          "execution_count": 11
        }
      ]
    },
    {
      "cell_type": "code",
      "source": [
        "#Modify\n",
        "My_list[0] = \"Ashish Prakash\"\n",
        "My_list"
      ],
      "metadata": {
        "colab": {
          "base_uri": "https://localhost:8080/"
        },
        "id": "vIkK0YYG11qW",
        "outputId": "6098d39d-5c42-4043-8510-9cf8a1760a42"
      },
      "execution_count": null,
      "outputs": [
        {
          "output_type": "execute_result",
          "data": {
            "text/plain": [
              "['Ashish Prakash', 'Aman', 'Shreyas', 'Rohit']"
            ]
          },
          "metadata": {},
          "execution_count": 12
        }
      ]
    },
    {
      "cell_type": "code",
      "source": [
        "#Delete\n",
        "del My_list[2]\n",
        "My_list"
      ],
      "metadata": {
        "colab": {
          "base_uri": "https://localhost:8080/"
        },
        "id": "n7EKHd1-2Kut",
        "outputId": "285db8e6-e504-41bc-aae9-f1187f149e98"
      },
      "execution_count": null,
      "outputs": [
        {
          "output_type": "execute_result",
          "data": {
            "text/plain": [
              "['Ashish Prakash', 'Aman', 'Rohit']"
            ]
          },
          "metadata": {},
          "execution_count": 13
        }
      ]
    },
    {
      "cell_type": "code",
      "source": [
        "Ques 4. Compare and contrast tuples and lists with examples"
      ],
      "metadata": {
        "id": "3MUnLqdx2W45"
      },
      "execution_count": null,
      "outputs": []
    },
    {
      "cell_type": "markdown",
      "source": [
        "Tuples and lists are both fundamental data structures in Python used to store collections of items. However, they differ in terms of their mutability, syntax, and common use cases.\n",
        "\n",
        "Mutability:\n",
        "\n",
        "Lists: Mutable, meaning you can change, add, or remove elements after creation.\n",
        "Tuples: Immutable, meaning they cannot be changed once created.\n",
        "Syntax:\n",
        "\n",
        "Lists: Enclosed in square brackets [].\n",
        "Tuples: Enclosed in parentheses ().\n",
        "Common Use Cases:\n",
        "\n",
        "Lists:\n",
        "Storing and manipulating dynamic data.\n",
        "Implementing stacks, queues, and other data structures.\n",
        "Representing sequences of elements.\n",
        "Tuples:\n",
        "Representing fixed data that shouldn't change.\n",
        "Assigning multiple values to variables in a single line.\n",
        "Using as keys in dictionaries."
      ],
      "metadata": {
        "id": "JGnGXR6Q2_7V"
      }
    },
    {
      "cell_type": "code",
      "source": [
        "#Examples\n",
        "#lists\n",
        "Grocery_list = [1, 2, 3, \"apple\", \"banana\"]\n",
        "Grocery_list"
      ],
      "metadata": {
        "colab": {
          "base_uri": "https://localhost:8080/"
        },
        "id": "daaFz-fD3JnC",
        "outputId": "0627e337-81aa-4ada-fec4-fef8476d4a4d"
      },
      "execution_count": null,
      "outputs": [
        {
          "output_type": "execute_result",
          "data": {
            "text/plain": [
              "[1, 2, 3, 'apple', 'banana']"
            ]
          },
          "metadata": {},
          "execution_count": 19
        }
      ]
    },
    {
      "cell_type": "code",
      "source": [
        "Grocery_list.append(4)  # Add an element\n",
        "Grocery_list.remove(\"apple\")  # Remove an element\n",
        "Grocery_list"
      ],
      "metadata": {
        "colab": {
          "base_uri": "https://localhost:8080/"
        },
        "id": "c3YmXv-P3h1t",
        "outputId": "1cf23b7e-cb40-4f6d-8659-32da3733a245"
      },
      "execution_count": null,
      "outputs": [
        {
          "output_type": "execute_result",
          "data": {
            "text/plain": [
              "[1, 2, 3, 'banana', 4]"
            ]
          },
          "metadata": {},
          "execution_count": 20
        }
      ]
    },
    {
      "cell_type": "code",
      "source": [
        "#Tuples\n",
        "my_tuple = (1, 2, 3, \"apple\", \"banana\")\n",
        "my_tuple"
      ],
      "metadata": {
        "colab": {
          "base_uri": "https://localhost:8080/"
        },
        "id": "ntA865ed3pBB",
        "outputId": "8036d7c7-aaab-43e0-adbb-4e014966b642"
      },
      "execution_count": null,
      "outputs": [
        {
          "output_type": "execute_result",
          "data": {
            "text/plain": [
              "(1, 2, 3, 'apple', 'banana')"
            ]
          },
          "metadata": {},
          "execution_count": 21
        }
      ]
    },
    {
      "cell_type": "code",
      "source": [
        "my_tuple.append(4)  # This will raise an error, as tuples are immutable"
      ],
      "metadata": {
        "colab": {
          "base_uri": "https://localhost:8080/",
          "height": 141
        },
        "id": "4WSX67WA39y0",
        "outputId": "7a05390e-b97e-40d7-a8b0-676511f91f11"
      },
      "execution_count": null,
      "outputs": [
        {
          "output_type": "error",
          "ename": "AttributeError",
          "evalue": "'tuple' object has no attribute 'append'",
          "traceback": [
            "\u001b[0;31m---------------------------------------------------------------------------\u001b[0m",
            "\u001b[0;31mAttributeError\u001b[0m                            Traceback (most recent call last)",
            "\u001b[0;32m<ipython-input-22-1c0f7b3d9f32>\u001b[0m in \u001b[0;36m<cell line: 1>\u001b[0;34m()\u001b[0m\n\u001b[0;32m----> 1\u001b[0;31m \u001b[0mmy_tuple\u001b[0m\u001b[0;34m.\u001b[0m\u001b[0mappend\u001b[0m\u001b[0;34m(\u001b[0m\u001b[0;36m4\u001b[0m\u001b[0;34m)\u001b[0m  \u001b[0;31m# This will raise an error, as tuples are immutable\u001b[0m\u001b[0;34m\u001b[0m\u001b[0;34m\u001b[0m\u001b[0m\n\u001b[0m",
            "\u001b[0;31mAttributeError\u001b[0m: 'tuple' object has no attribute 'append'"
          ]
        }
      ]
    },
    {
      "cell_type": "code",
      "source": [
        "Ques 5 . Describe the key features of sets and provide examples of their use?"
      ],
      "metadata": {
        "id": "24-1o0lW3-1j"
      },
      "execution_count": null,
      "outputs": []
    },
    {
      "cell_type": "markdown",
      "source": [
        "Sets are a fundamental data structure in Python which offer efficient and powerful features for managing unique elements.Some of the key features of sts and their examples are given below :-\n",
        "(a). Sets are unordered collection of unique elements.\n",
        "\n",
        "(b). No duplicate or repeated elements are allowed in sets.\n",
        "\n",
        "(c). There is support for mathematical operations such as union, intersection, difference.\n",
        "\n",
        "(d). They are mutable.\n",
        "\n",
        "(e). Sets provide efficient and powerful features for managing unique elements."
      ],
      "metadata": {
        "id": "h8jF3oLz2dhR"
      }
    },
    {
      "cell_type": "code",
      "source": [
        "#Examples\n",
        "S1 ={\"Hiking\", \"Trekking\", \"Camera\"}\n",
        "S2 = {\"Camera\", \"Coding\", \"Biking\"}\n"
      ],
      "metadata": {
        "id": "GderZ9ef3Ul9"
      },
      "execution_count": 1,
      "outputs": []
    },
    {
      "cell_type": "code",
      "source": [
        "#Union\n",
        "S1|S2"
      ],
      "metadata": {
        "colab": {
          "base_uri": "https://localhost:8080/"
        },
        "id": "XFKjAw1K3mtF",
        "outputId": "6cb08367-d180-4b6c-e81f-8519cfb9966d"
      },
      "execution_count": 2,
      "outputs": [
        {
          "output_type": "execute_result",
          "data": {
            "text/plain": [
              "{'Biking', 'Camera', 'Coding', 'Hiking', 'Trekking'}"
            ]
          },
          "metadata": {},
          "execution_count": 2
        }
      ]
    },
    {
      "cell_type": "code",
      "source": [
        "#Intersection\n",
        "S1&S2"
      ],
      "metadata": {
        "colab": {
          "base_uri": "https://localhost:8080/"
        },
        "id": "Uoj1DG8v3tnU",
        "outputId": "fe805115-f1a9-4ec4-f885-b1d5a2842084"
      },
      "execution_count": 3,
      "outputs": [
        {
          "output_type": "execute_result",
          "data": {
            "text/plain": [
              "{'Camera'}"
            ]
          },
          "metadata": {},
          "execution_count": 3
        }
      ]
    },
    {
      "cell_type": "code",
      "source": [
        "#Difference\n",
        "S1-S2"
      ],
      "metadata": {
        "colab": {
          "base_uri": "https://localhost:8080/"
        },
        "id": "kbt_aYVQ3x4m",
        "outputId": "7c3b4897-1d55-451a-8b73-2e24b2fd1ae4"
      },
      "execution_count": 4,
      "outputs": [
        {
          "output_type": "execute_result",
          "data": {
            "text/plain": [
              "{'Hiking', 'Trekking'}"
            ]
          },
          "metadata": {},
          "execution_count": 4
        }
      ]
    },
    {
      "cell_type": "code",
      "source": [
        "#Symmetric Difference\n",
        "S1^S2"
      ],
      "metadata": {
        "colab": {
          "base_uri": "https://localhost:8080/"
        },
        "id": "WODSreqq32_J",
        "outputId": "2c8571ef-dbb5-423c-90bb-d8b19a6aacd8"
      },
      "execution_count": 5,
      "outputs": [
        {
          "output_type": "execute_result",
          "data": {
            "text/plain": [
              "{'Biking', 'Coding', 'Hiking', 'Trekking'}"
            ]
          },
          "metadata": {},
          "execution_count": 5
        }
      ]
    },
    {
      "cell_type": "code",
      "source": [
        "Ques 2. Discuss the use cases of tuples and sets in Python programming"
      ],
      "metadata": {
        "id": "G5xArKjc38LX"
      },
      "execution_count": null,
      "outputs": []
    },
    {
      "cell_type": "markdown",
      "source": [
        "Tuples are immutable and ordered collection of values.\n",
        "\n",
        "Use cases of tuples are :-\n",
        "(a). it stores data that should not change.\n",
        "\n",
        "(b). used for passing multiple to functions.\n",
        "\n",
        "(c). used to represent rows in a database or items in a list.\n",
        "\n",
        "(d). tuples are used as keys in dictionaries.\n",
        "\n",
        "Sets are unordered collection of unique values.\n",
        "\n",
        "Use cases of sets are :-\n",
        "\n",
        "(a). remove duplicates from lists.\n",
        "\n",
        "(b). to check if an element exists.\n",
        "\n",
        "(c). to perform set operations like union,intersection, difference.\n",
        "\n",
        "(d). improves query performance.\n",
        "\n",
        "Examples :-"
      ],
      "metadata": {
        "id": "93XpOPN44KRe"
      }
    },
    {
      "cell_type": "code",
      "source": [
        "#Using Tuples as Dictionary keys\n",
        "data = {(1,2):\"value 1\",(3,4):\"value 2\"}\n",
        "print(data[(3,4)])"
      ],
      "metadata": {
        "colab": {
          "base_uri": "https://localhost:8080/"
        },
        "id": "2rxG2JDQ4Tzl",
        "outputId": "239bcaae-db5b-4910-9cea-a0d3ccc860c8"
      },
      "execution_count": 7,
      "outputs": [
        {
          "output_type": "stream",
          "name": "stdout",
          "text": [
            "value 2\n"
          ]
        }
      ]
    },
    {
      "cell_type": "code",
      "source": [
        "#Using Sets for removing duplicates\n",
        "names = [\"John\",\"Mary\",\"John\",\"Ashish\",\"Abhishek\",\"Ashish\"]\n",
        "unique_names=set(names)\n",
        "print(unique_names)"
      ],
      "metadata": {
        "colab": {
          "base_uri": "https://localhost:8080/"
        },
        "id": "XtOgOEj04ZI2",
        "outputId": "090e2735-759d-4d0f-873d-2febe7913daf"
      },
      "execution_count": 8,
      "outputs": [
        {
          "output_type": "stream",
          "name": "stdout",
          "text": [
            "{'Ashish', 'Mary', 'John', 'Abhishek'}\n"
          ]
        }
      ]
    },
    {
      "cell_type": "code",
      "source": [
        "Ques 7. Describe how to add, modify, and delete items in a dictionary with examples"
      ],
      "metadata": {
        "id": "zje8fbZ94r24"
      },
      "execution_count": null,
      "outputs": []
    },
    {
      "cell_type": "markdown",
      "source": [
        "Given below is mentioned how to add, modify and delete items in a dictionary"
      ],
      "metadata": {
        "id": "2BZWT5FX5EUL"
      }
    },
    {
      "cell_type": "code",
      "source": [
        "my_dict={\"name\":\"Ashish\",\"age\":23}\n",
        "my_dict"
      ],
      "metadata": {
        "colab": {
          "base_uri": "https://localhost:8080/"
        },
        "id": "bQ-QllPe5aP7",
        "outputId": "d187797c-7976-42b7-f726-e34407210e78"
      },
      "execution_count": 11,
      "outputs": [
        {
          "output_type": "execute_result",
          "data": {
            "text/plain": [
              "{'name': 'Ashish', 'age': 23}"
            ]
          },
          "metadata": {},
          "execution_count": 11
        }
      ]
    },
    {
      "cell_type": "code",
      "source": [
        "#Adding items in Dictionary\n",
        "my_dict.update({\"country\":\"INDIA\",\"city\":\"BLR\"})\n",
        "print(my_dict)"
      ],
      "metadata": {
        "colab": {
          "base_uri": "https://localhost:8080/"
        },
        "id": "zZ0OmvI75vxm",
        "outputId": "3b71534e-a2b3-4d06-bfaf-5bdd3ecbcccd"
      },
      "execution_count": 12,
      "outputs": [
        {
          "output_type": "stream",
          "name": "stdout",
          "text": [
            "{'name': 'Ashish', 'age': 23, 'country': 'INDIA', 'city': 'BLR'}\n"
          ]
        }
      ]
    },
    {
      "cell_type": "code",
      "source": [
        "#Modify Items in Dictionary\n",
        "my_dict[\"city\"]=\"New Delhi\"\n",
        "print(my_dict)"
      ],
      "metadata": {
        "colab": {
          "base_uri": "https://localhost:8080/"
        },
        "id": "0pDzPwRK5411",
        "outputId": "5024bc1a-2866-4ee1-bc4e-6c5c525bcfd6"
      },
      "execution_count": 14,
      "outputs": [
        {
          "output_type": "stream",
          "name": "stdout",
          "text": [
            "{'name': 'Ashish', 'age': 23, 'country': 'INDIA', 'city': 'New Delhi'}\n"
          ]
        }
      ]
    },
    {
      "cell_type": "code",
      "source": [
        "#Delete Items in Dictionary\n",
        "my_dict.pop(\"age\")\n",
        "print(my_dict)"
      ],
      "metadata": {
        "colab": {
          "base_uri": "https://localhost:8080/"
        },
        "id": "8caZ3fob6HXQ",
        "outputId": "b9990a8b-775c-471c-a6f0-f3bb22a590ad"
      },
      "execution_count": 15,
      "outputs": [
        {
          "output_type": "stream",
          "name": "stdout",
          "text": [
            "{'name': 'Ashish', 'country': 'INDIA', 'city': 'New Delhi'}\n"
          ]
        }
      ]
    },
    {
      "cell_type": "code",
      "source": [
        "Ques 8.  Discuss the importance of dictionary keys being immutable and provide example"
      ],
      "metadata": {
        "id": "OlbyuGAb6oeX"
      },
      "execution_count": null,
      "outputs": []
    },
    {
      "cell_type": "markdown",
      "source": [
        "dictionary keys must be immutable, means they can't be changed after creation. This is due to several reasons :-\n",
        "(a). Hashing :- dictionary keys are hashed for efficiency. Immutable keys ensure consistent hash values for fast and reliable key retrievals.\n",
        "\n",
        "(b). Uniqueness :- Immutability guarantees unique keys and prevents accidental key duplication.\n",
        "\n",
        "(c). Predictability :- Immutable keys simplifies debugging and maintenance."
      ],
      "metadata": {
        "id": "yYnpb0Us67hd"
      }
    },
    {
      "cell_type": "markdown",
      "source": [
        "Think of a dictionary key like a locker number:\n",
        "\n",
        "Once assigned, the locker number must stay the same so you can find your locker later.\n",
        "If the number could change, you'd lose track of where your stuff is stored. Immutable keys are like fixed locker numbers—reliable and unchanging.\n",
        "In short, immutable keys ensure dictionaries remain fast, reliable, and error-free!"
      ],
      "metadata": {
        "id": "-EZwJ2mV9nLv"
      }
    },
    {
      "cell_type": "code",
      "source": [
        "# Immutable keys (strings, integers, tuples)\n",
        "my_dic = {\n",
        "    \"name\": \"Ashish\",\n",
        "    \"age\": 23,\n",
        "    (1, 2, 3): \"tuple_key\"\n",
        "}\n",
        "\n",
        "# Mutable keys (lists, dictionaries) are not allowed\n",
        "# This will raise a TypeError\n",
        "my_dic = {[1, 2]: \"list_key\"}"
      ],
      "metadata": {
        "colab": {
          "base_uri": "https://localhost:8080/",
          "height": 176
        },
        "id": "IqttS4fn-qtv",
        "outputId": "1b19b30c-00b1-43ef-918a-a8dd063b07dc"
      },
      "execution_count": 18,
      "outputs": [
        {
          "output_type": "error",
          "ename": "TypeError",
          "evalue": "unhashable type: 'list'",
          "traceback": [
            "\u001b[0;31m---------------------------------------------------------------------------\u001b[0m",
            "\u001b[0;31mTypeError\u001b[0m                                 Traceback (most recent call last)",
            "\u001b[0;32m<ipython-input-18-b6471b7b268a>\u001b[0m in \u001b[0;36m<cell line: 10>\u001b[0;34m()\u001b[0m\n\u001b[1;32m      8\u001b[0m \u001b[0;31m# Mutable keys (lists, dictionaries) are not allowed\u001b[0m\u001b[0;34m\u001b[0m\u001b[0;34m\u001b[0m\u001b[0m\n\u001b[1;32m      9\u001b[0m \u001b[0;31m# This will raise a TypeError\u001b[0m\u001b[0;34m\u001b[0m\u001b[0;34m\u001b[0m\u001b[0m\n\u001b[0;32m---> 10\u001b[0;31m \u001b[0mmy_dic\u001b[0m \u001b[0;34m=\u001b[0m \u001b[0;34m{\u001b[0m\u001b[0;34m[\u001b[0m\u001b[0;36m1\u001b[0m\u001b[0;34m,\u001b[0m \u001b[0;36m2\u001b[0m\u001b[0;34m]\u001b[0m\u001b[0;34m:\u001b[0m \u001b[0;34m\"list_key\"\u001b[0m\u001b[0;34m}\u001b[0m\u001b[0;34m\u001b[0m\u001b[0;34m\u001b[0m\u001b[0m\n\u001b[0m",
            "\u001b[0;31mTypeError\u001b[0m: unhashable type: 'list'"
          ]
        }
      ]
    },
    {
      "cell_type": "code",
      "source": [],
      "metadata": {
        "id": "KNfmlIJe_bus"
      },
      "execution_count": null,
      "outputs": []
    }
  ]
}