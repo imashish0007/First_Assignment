{
  "nbformat": 4,
  "nbformat_minor": 0,
  "metadata": {
    "colab": {
      "provenance": [],
      "authorship_tag": "ABX9TyP3mTd2MeyY52qN8Y5xxinj",
      "include_colab_link": true
    },
    "kernelspec": {
      "name": "python3",
      "display_name": "Python 3"
    },
    "language_info": {
      "name": "python"
    }
  },
  "cells": [
    {
      "cell_type": "markdown",
      "metadata": {
        "id": "view-in-github",
        "colab_type": "text"
      },
      "source": [
        "<a href=\"https://colab.research.google.com/github/imashish0007/First_Assignment/blob/main/First_Assignment.ipynb\" target=\"_parent\"><img src=\"https://colab.research.google.com/assets/colab-badge.svg\" alt=\"Open In Colab\"/></a>"
      ]
    },
    {
      "cell_type": "markdown",
      "source": [
        "\n",
        "\n",
        "# **First Assignment**\n"
      ],
      "metadata": {
        "id": "zTXpx1BRtUKT"
      }
    },
    {
      "cell_type": "code",
      "source": [
        "1.  Explain the key features of Python that make it a popular choice for programming?"
      ],
      "metadata": {
        "id": "-hrMGjbO23jD"
      },
      "execution_count": null,
      "outputs": []
    },
    {
      "cell_type": "markdown",
      "source": [
        "Python is popular because it's easy to read and write, making it a great choice for both beginners and experienced programmers. Here’s why it stands out:\n",
        "\n",
        "Easy to Learn: Python's code looks like plain English, so it’s simple to pick up, even if you’re new to programming.\n",
        "\n",
        "No Need to Specify Data Types: You don’t need to tell Python whether a variable is a number, text, or something else—it figures it out for you.\n",
        "\n",
        "Quick Testing and Running: Python runs code line by line, so you can test and debug your code without waiting for it to compile.\n",
        "\n",
        "Flexible: You can use Python for different styles of programming, whether you want to structure it around objects, work with functions, or just write simple scripts.\n",
        "\n",
        "Ready-to-Use Tools: Python comes with lots of built-in tools and libraries, so you can handle a range of tasks (like working with files or data) without needing extra software.\n",
        "\n",
        "Many Libraries: Python has a massive collection of add-ons for specific tasks, from creating websites to working with data and AI. This saves you time and makes complex jobs easier."
      ],
      "metadata": {
        "id": "vWOTpr_B25jf"
      }
    },
    {
      "cell_type": "code",
      "source": [
        "2. Describe the role of predefined keywords in Python and provide examples of how they are used in a program ?"
      ],
      "metadata": {
        "id": "YTUx6G513JOi"
      },
      "execution_count": null,
      "outputs": []
    },
    {
      "cell_type": "markdown",
      "source": [
        "Predefined keywords in Python are reserved words that have special meanings and purposes. These keywords are part of the Python language itself, and they perform specific functions. Since they’re reserved, they cannot be used as variable names, function names, or any other identifiers in a program.\n",
        "\n",
        "Each keyword serves a distinct purpose, like controlling the flow of the program, handling errors, or defining functions and classes. Here are some commonly used keywords and examples of how they’re used in a program:\n",
        "\n",
        "Common Python Keywords and Their Uses\n",
        "if, else, elif - Used for conditional statements.\n",
        "for, while - Used for looping.\n",
        "break, continue - Used to control the flow within loops.\n",
        "def - Used to define functions.\n",
        "return - Used to return a value from a function.\n",
        "class - Used to define a class.\n",
        "try, except, finally - Used for error handling.\n",
        "import - Used to include external modules.\n",
        "in, is - Used for membership and identity testing.\n",
        "True, False, None - Represent boolean values and a null value."
      ],
      "metadata": {
        "id": "V6xocMiZ3Vic"
      }
    },
    {
      "cell_type": "code",
      "source": [
        "#Example\n",
        "#Defining the values\n",
        "name = input(\"Enter your name\")\n",
        "age = int(input(\"Enter your age\"))\n",
        "email = input(\"Enter your email\")\n",
        "Location = input(\"Enter your location\")\n",
        "\n",
        "#applying the conditions\n",
        "if name == \"\":\n",
        "  print(\"Please enter a valid name\")\n",
        "elif age<20 or age>50:\n",
        "  print(\"Please enter age between 20 and 50\")\n",
        "elif '@' not in email:\n",
        "  print(\"Please enter valid email\")\n",
        "elif Location != \"Delhi\":\n",
        "  print(\"PLease enter valid Location\")\n",
        "else:\n",
        "  print(\"Registration Successful\")"
      ],
      "metadata": {
        "colab": {
          "base_uri": "https://localhost:8080/"
        },
        "id": "1PznAfL53Wg5",
        "outputId": "cc5dbc4c-8357-4025-9183-a548c2c63545"
      },
      "execution_count": 1,
      "outputs": [
        {
          "output_type": "stream",
          "name": "stdout",
          "text": [
            "Enter your nameAshish\n",
            "Enter your age23\n",
            "Enter your emailimashish7464@mail.com\n",
            "Enter your locationDelhi\n",
            "Registration Successful\n"
          ]
        }
      ]
    },
    {
      "cell_type": "code",
      "source": [
        "3. Compare and contrast mutable and immutable objects in Python with examples."
      ],
      "metadata": {
        "id": "IxsnIzun3j6S"
      },
      "execution_count": null,
      "outputs": []
    },
    {
      "cell_type": "markdown",
      "source": [
        "In Python, mutable and immutable objects differ in whether their content can be modified after they are created.\n",
        "\n",
        "Mutable objects:\n",
        "Mutable objects are those whose content can be changed after creation. This means you can modify, add, or delete elements\n",
        "or attributes of these objects.\n",
        "\n",
        "Examples of mutable objects:\n",
        "Lists\n",
        "Dictionaries\n",
        "Sets\n",
        "\n",
        "Immutable Objects:\n",
        "Immutable objects are those whose content cannot be changed after creation. Once an immutable object is created, its state is fixed\n",
        "and cannot be modified.\n",
        "\n",
        "Examples of immutable objects:\n",
        "Strings\n",
        "Tuples\n",
        "Integers\n",
        "Floats\n",
        "Frozen sets"
      ],
      "metadata": {
        "id": "-0Vp3ihM3u_t"
      }
    },
    {
      "cell_type": "code",
      "source": [
        "4. Discuss the different types of operators in Python and provide examples of how they are used"
      ],
      "metadata": {
        "id": "JJc8-f1M4JZe"
      },
      "execution_count": null,
      "outputs": []
    },
    {
      "cell_type": "markdown",
      "source": [
        "In Python, operators are symbols that perform operations on values or variables. They are essential in programming for tasks like arithmetic, comparisons, logical evaluations, and more. Here’s an overview of the main types of operators in Python, along with examples of how they work:\n",
        "\n",
        "1. Arithmetic Operators\n",
        "Arithmetic operators are used to perform mathematical calculations.\n",
        "\n",
        "+ (Addition): Adds two values.\n",
        "- (Subtraction): Subtracts one value from another.\n",
        "* (Multiplication): Multiplies two values.\n",
        "/ (Division): Divides one value by another.\n",
        "% (Modulus): Returns the remainder of division.\n",
        "** (Exponent): Raises a value to the power of another.\n",
        "// (Floor Division): Divides and returns the integer part of the quotient."
      ],
      "metadata": {
        "id": "nt8vrcLb4Q6q"
      }
    },
    {
      "cell_type": "code",
      "source": [
        "#Arithmetic Operator s\n",
        "A = 5\n",
        "B = 3\n",
        "print(A+B)"
      ],
      "metadata": {
        "colab": {
          "base_uri": "https://localhost:8080/"
        },
        "id": "VxLWUEla4fBX",
        "outputId": "2519cf16-7df6-44d1-e12d-21b91179818d"
      },
      "execution_count": 4,
      "outputs": [
        {
          "output_type": "stream",
          "name": "stdout",
          "text": [
            "8\n"
          ]
        }
      ]
    },
    {
      "cell_type": "markdown",
      "source": [
        "2. Comparison Operators\n",
        "Comparison operators are used to compare two values and return True or False.\n",
        "\n",
        "== (Equal to): Checks if two values are equal.\n",
        "!= (Not equal to): Checks if two values are not equal.\n",
        "> (Greater than): Checks if one value is greater than another.\n",
        "< (Less than): Checks if one value is less than another.\n",
        ">= (Greater than or equal to): Checks if one value is greater than or equal to another.\n",
        "<= (Less than or equal to): Checks if one value is less than or equal to another.\n"
      ],
      "metadata": {
        "id": "DEYFDNgV4ov2"
      }
    },
    {
      "cell_type": "code",
      "source": [
        "#Comparison  Operators\n",
        "a = 10\n",
        "b = 5\n",
        "\n",
        "print(a == b)"
      ],
      "metadata": {
        "colab": {
          "base_uri": "https://localhost:8080/"
        },
        "id": "LiLSObhM4rh9",
        "outputId": "1dde71fa-3f59-4ab8-b96f-d6d6e0fe8fb8"
      },
      "execution_count": 3,
      "outputs": [
        {
          "output_type": "stream",
          "name": "stdout",
          "text": [
            "False\n"
          ]
        }
      ]
    },
    {
      "cell_type": "markdown",
      "source": [
        "3. Logical Operators\n",
        "Logical operators are used to combine conditional statements.\n",
        "\n",
        "and: Returns True if both statements are True.\n",
        "or: Returns True if at least one statement is True.\n",
        "not: Returns True if the statement is False."
      ],
      "metadata": {
        "id": "oawxxKjl44d5"
      }
    },
    {
      "cell_type": "code",
      "source": [
        "#Logical Operators\n",
        "a = True\n",
        "b = False\n",
        "\n",
        "print(a and b)"
      ],
      "metadata": {
        "colab": {
          "base_uri": "https://localhost:8080/"
        },
        "id": "a953lRII4wlf",
        "outputId": "c9d059ea-d0b2-4348-c050-295314f745c0"
      },
      "execution_count": 5,
      "outputs": [
        {
          "output_type": "stream",
          "name": "stdout",
          "text": [
            "False\n"
          ]
        }
      ]
    },
    {
      "cell_type": "code",
      "source": [
        "5.  Explain the concept of type casting in Python with examples\n",
        "\n"
      ],
      "metadata": {
        "id": "hPsCy4i14_wd"
      },
      "execution_count": null,
      "outputs": []
    },
    {
      "cell_type": "markdown",
      "source": [
        "In simple terms, type casting in Python is the way to convert a value from one type to another, like turning a number into a string or a float into an integer. There are two ways to do it:\n",
        "\n",
        "1. Implicit Type Casting\n",
        "Python sometimes changes types automatically when it makes sense to do so. For example, if you add an integer and a float, Python will convert the integer to a float to avoid data loss."
      ],
      "metadata": {
        "id": "DWP_ulIn5Opk"
      }
    },
    {
      "cell_type": "code",
      "source": [
        "a = 5       # int\n",
        "b = 3.2     # float\n",
        "result = a + b   # Python converts `a` to float, so `result` is 8.2 (float)\n",
        "print(result)    # Output: 8.2"
      ],
      "metadata": {
        "colab": {
          "base_uri": "https://localhost:8080/"
        },
        "id": "N4qwcKgJ5Tw3",
        "outputId": "150a0e51-7bbd-4f0b-cc7a-733351a5aae9"
      },
      "execution_count": 6,
      "outputs": [
        {
          "output_type": "stream",
          "name": "stdout",
          "text": [
            "8.2\n"
          ]
        }
      ]
    },
    {
      "cell_type": "markdown",
      "source": [
        "2. Explicit Type Casting\n",
        "Sometimes, you need to manually change a value’s type to make your code work. You can do this using specific functions like:\n",
        "\n",
        "int() to make a value an integer.\n",
        "float() to make a value a floating-point number.\n",
        "str() to make a value a string."
      ],
      "metadata": {
        "id": "sFgWNevr5Z7t"
      }
    },
    {
      "cell_type": "code",
      "source": [
        "num = 5.8\n",
        "new_num = int(num)   # Converts to 5\n",
        "print(new_num)       # Output: 5\n"
      ],
      "metadata": {
        "colab": {
          "base_uri": "https://localhost:8080/"
        },
        "id": "DLkuvQ245cNO",
        "outputId": "9cef2618-32c9-4a2e-dcba-f88d3cec41e1"
      },
      "execution_count": 7,
      "outputs": [
        {
          "output_type": "stream",
          "name": "stdout",
          "text": [
            "5\n"
          ]
        }
      ]
    },
    {
      "cell_type": "code",
      "source": [
        "6. How do conditional statements work in Python? Illustrate with examples"
      ],
      "metadata": {
        "id": "CChx0Sqp5ftQ"
      },
      "execution_count": null,
      "outputs": []
    },
    {
      "cell_type": "markdown",
      "source": [
        "In Python, conditional statements are used to make decisions based on certain conditions. They check if a condition is True or False and execute code accordingly. The main conditional statements in Python are if, elif, and else."
      ],
      "metadata": {
        "id": "0iRsimLj5noS"
      }
    },
    {
      "cell_type": "markdown",
      "source": [
        "1. if Statement\n",
        "The if statement checks if a condition is True. If it is, the code under it runs."
      ],
      "metadata": {
        "id": "UpmTKOev5tiv"
      }
    },
    {
      "cell_type": "code",
      "source": [
        "age = 18\n",
        "if age >= 18:\n",
        "    print(\"You are eligible to vote.\")"
      ],
      "metadata": {
        "colab": {
          "base_uri": "https://localhost:8080/"
        },
        "id": "sWHuuvYT5yfp",
        "outputId": "bf26df03-81d6-48ba-94f6-0c195d38732e"
      },
      "execution_count": 8,
      "outputs": [
        {
          "output_type": "stream",
          "name": "stdout",
          "text": [
            "You are eligible to vote.\n"
          ]
        }
      ]
    },
    {
      "cell_type": "markdown",
      "source": [
        "2. else Statement\n",
        "The else statement runs if the if condition is False. It acts as a fallback."
      ],
      "metadata": {
        "id": "qS9tKBph539H"
      }
    },
    {
      "cell_type": "code",
      "source": [
        "age = 16\n",
        "if age >= 18:\n",
        "    print(\"You are eligible to vote.\")\n",
        "else:\n",
        "    print(\"You are not eligible to vote.\")"
      ],
      "metadata": {
        "colab": {
          "base_uri": "https://localhost:8080/"
        },
        "id": "PxLJiWYO58sb",
        "outputId": "7b0c48ca-f804-40fb-fecb-bd554a72f5cf"
      },
      "execution_count": 9,
      "outputs": [
        {
          "output_type": "stream",
          "name": "stdout",
          "text": [
            "You are not eligible to vote.\n"
          ]
        }
      ]
    },
    {
      "cell_type": "markdown",
      "source": [
        "3. elif Statement\n",
        "The elif (short for \"else if\") statement checks multiple conditions. If the first if condition is False, elif statements are checked in order."
      ],
      "metadata": {
        "id": "BpnjnLJy6D7t"
      }
    },
    {
      "cell_type": "code",
      "source": [
        "#Defining the values\n",
        "name = input(\"Enter your name\")\n",
        "age = int(input(\"Enter your age\"))\n",
        "email = input(\"Enter your email\")\n",
        "Location = input(\"Enter your location\")\n",
        "\n",
        "#applying the conditions\n",
        "if name == \"\":\n",
        "  print(\"Please enter a valid name\")\n",
        "elif age<20 or age>50:\n",
        "  print(\"Please enter age between 20 and 50\")\n",
        "elif '@' not in email:\n",
        "  print(\"Please enter valid email\")\n",
        "elif Location != \"Delhi\":\n",
        "  print(\"PLease enter valid Location\")\n",
        "else:\n",
        "  print(\"Registration Successful\")\n"
      ],
      "metadata": {
        "colab": {
          "base_uri": "https://localhost:8080/"
        },
        "id": "aISnj2TD6I45",
        "outputId": "71726130-5690-41ea-ed2a-efa28c6110b3"
      },
      "execution_count": 10,
      "outputs": [
        {
          "output_type": "stream",
          "name": "stdout",
          "text": [
            "Enter your nameAshish\n",
            "Enter your age12\n",
            "Enter your emailimashish7464@gmail.com\n",
            "Enter your locationKashipur\n",
            "Please enter age between 20 and 50\n"
          ]
        }
      ]
    },
    {
      "cell_type": "code",
      "source": [
        "7. Describe the different types of loops in Python and their use cases with examples"
      ],
      "metadata": {
        "id": "0-BIdvpq6QWA"
      },
      "execution_count": null,
      "outputs": []
    },
    {
      "cell_type": "markdown",
      "source": [
        "In Python, loops are used to repeat a block of code multiple times. The two main types of loops in Python are the for loop and the while loop. Each type is useful for different situations."
      ],
      "metadata": {
        "id": "qeLfUKAo6htu"
      }
    },
    {
      "cell_type": "markdown",
      "source": [
        "1. for Loop\n",
        "The for loop is used to iterate over a sequence (like a list, tuple, dictionary, set, or string). It goes through each item in the sequence, one at a time, until it reaches the end.\n",
        "\n",
        "Use Case: Use a for loop when you know the number of iterations in advance or when you're working with a sequence like a list or range."
      ],
      "metadata": {
        "id": "gCtK068W6mA8"
      }
    },
    {
      "cell_type": "code",
      "source": [
        "i = int(input(\"Enter a number\"))\n",
        "for j in range (1,11):\n",
        "   print(i,\"*\",j,\"=\",i*j)\n",
        "   print()"
      ],
      "metadata": {
        "colab": {
          "base_uri": "https://localhost:8080/"
        },
        "id": "uur6lo3x6qdq",
        "outputId": "79a2b9d0-7809-4ef9-e8d8-28e0adc86edb"
      },
      "execution_count": 11,
      "outputs": [
        {
          "output_type": "stream",
          "name": "stdout",
          "text": [
            "Enter a number5\n",
            "5 * 1 = 5\n",
            "\n",
            "5 * 2 = 10\n",
            "\n",
            "5 * 3 = 15\n",
            "\n",
            "5 * 4 = 20\n",
            "\n",
            "5 * 5 = 25\n",
            "\n",
            "5 * 6 = 30\n",
            "\n",
            "5 * 7 = 35\n",
            "\n",
            "5 * 8 = 40\n",
            "\n",
            "5 * 9 = 45\n",
            "\n",
            "5 * 10 = 50\n",
            "\n"
          ]
        }
      ]
    },
    {
      "cell_type": "markdown",
      "source": [
        "2. while Loop\n",
        "The while loop continues as long as a condition remains True. It’s useful when you don’t know the exact number of iterations in advance, as the loop continues until a condition is met.\n",
        "\n",
        "Use Case: Use a while loop when the number of repetitions depends on a condition rather than a sequence."
      ],
      "metadata": {
        "id": "wr3surYT6zQh"
      }
    },
    {
      "cell_type": "code",
      "source": [
        "c = int(input(\"enter number of rows\"))\n",
        "row = 1\n",
        "while row <=c:\n",
        "  col = 1\n",
        "  while col <=row:\n",
        "    print(\"#\", end=\"\")\n",
        "    col=col+1\n",
        "  else:\n",
        "      print()\n",
        "      row=row+1\n",
        "\n"
      ],
      "metadata": {
        "colab": {
          "base_uri": "https://localhost:8080/"
        },
        "id": "WKt_7DAF69Je",
        "outputId": "923f9851-9929-4a6e-cdd0-d89d1b089dbf"
      },
      "execution_count": 12,
      "outputs": [
        {
          "output_type": "stream",
          "name": "stdout",
          "text": [
            "enter number of rows4\n",
            "#\n",
            "##\n",
            "###\n",
            "####\n"
          ]
        }
      ]
    },
    {
      "cell_type": "code",
      "source": [],
      "metadata": {
        "id": "Dt7tDTuK7AVG"
      },
      "execution_count": null,
      "outputs": []
    }
  ]
}