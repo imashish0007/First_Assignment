{
  "nbformat": 4,
  "nbformat_minor": 0,
  "metadata": {
    "colab": {
      "provenance": [],
      "authorship_tag": "ABX9TyP8uE5+IgrjZCHLVTceoorB",
      "include_colab_link": true
    },
    "kernelspec": {
      "name": "python3",
      "display_name": "Python 3"
    },
    "language_info": {
      "name": "python"
    }
  },
  "cells": [
    {
      "cell_type": "markdown",
      "metadata": {
        "id": "view-in-github",
        "colab_type": "text"
      },
      "source": [
        "<a href=\"https://colab.research.google.com/github/imashish0007/PW_Assignments/blob/main/Third_Assignment.ipynb\" target=\"_parent\"><img src=\"https://colab.research.google.com/assets/colab-badge.svg\" alt=\"Open In Colab\"/></a>"
      ]
    },
    {
      "cell_type": "markdown",
      "source": [
        "# Assignment 3"
      ],
      "metadata": {
        "id": "wq2Jyh0td37n"
      }
    },
    {
      "cell_type": "code",
      "execution_count": null,
      "metadata": {
        "id": "Sfq4HXGadnJE"
      },
      "outputs": [],
      "source": [
        "Ques 1 What is the difference between a function and a method in Python?"
      ]
    },
    {
      "cell_type": "markdown",
      "source": [
        "Ans Function: A function is a block of reusable code that performs a specific task. It is independent and can be called from anywhere in the program."
      ],
      "metadata": {
        "id": "ORPbpRAjeDU7"
      }
    },
    {
      "cell_type": "code",
      "source": [
        "#Example\n",
        "def greet():\n",
        "    print(\"Welcome to Assigment 3\")\n"
      ],
      "metadata": {
        "id": "P7IrUHfmeLiA"
      },
      "execution_count": null,
      "outputs": []
    },
    {
      "cell_type": "code",
      "source": [
        "greet()"
      ],
      "metadata": {
        "colab": {
          "base_uri": "https://localhost:8080/"
        },
        "id": "J9qQ5hwVe8xH",
        "outputId": "02bfad89-292d-4a11-c6da-1d9db8f37261"
      },
      "execution_count": null,
      "outputs": [
        {
          "output_type": "stream",
          "name": "stdout",
          "text": [
            "Welcome to Assigment 3\n"
          ]
        }
      ]
    },
    {
      "cell_type": "markdown",
      "source": [
        "A method is similar to a function but is tied to an object or a class. It is called on an object and can access or modify the data of that object."
      ],
      "metadata": {
        "id": "v-HhQC5yfP6H"
      }
    },
    {
      "cell_type": "code",
      "source": [
        "#Example\n",
        "class Person:\n",
        "    def greet(self):\n",
        "        print(\"Hello! Welcome to assignment 3\")\n"
      ],
      "metadata": {
        "id": "_6CLWd6tfZiE"
      },
      "execution_count": null,
      "outputs": []
    },
    {
      "cell_type": "code",
      "source": [
        "ash = Person()\n",
        "ash.greet()"
      ],
      "metadata": {
        "colab": {
          "base_uri": "https://localhost:8080/"
        },
        "id": "d9NaOshDfivh",
        "outputId": "2c92044a-ea24-4c14-d5b4-8ef08547023b"
      },
      "execution_count": null,
      "outputs": [
        {
          "output_type": "stream",
          "name": "stdout",
          "text": [
            "Hello! Welcome to assignment 3\n"
          ]
        }
      ]
    },
    {
      "cell_type": "code",
      "source": [
        "Ques 2. Explain the concept of function arguments and parameters in Python."
      ],
      "metadata": {
        "id": "_019bdEhfmtN"
      },
      "execution_count": null,
      "outputs": []
    },
    {
      "cell_type": "markdown",
      "source": [
        "Ans\n",
        "Parameters are like placeholders or \"empty boxes\" in the function definition where you can specify what kind of information the function needs to do its job.\n",
        "\n",
        "Arguments are the actual \"values\" you put into those boxes when you call the function."
      ],
      "metadata": {
        "id": "EJFx9TbqglMK"
      }
    },
    {
      "cell_type": "code",
      "source": [
        "def greet(name):  # 'name' is the parameter\n",
        "    print(f\"Hello, {name}!\")\n",
        "\n",
        "greet(\"Ashish\")  # \"Ashish\" is the argument"
      ],
      "metadata": {
        "colab": {
          "base_uri": "https://localhost:8080/"
        },
        "id": "Letg-ulwhNly",
        "outputId": "b9c9ff1e-7f3b-4127-e0e9-4f3ce25bcc3a"
      },
      "execution_count": null,
      "outputs": [
        {
          "output_type": "stream",
          "name": "stdout",
          "text": [
            "Hello, Ashish!\n"
          ]
        }
      ]
    },
    {
      "cell_type": "code",
      "source": [
        "Ques 3.  What are the different ways to define and call a function in Python?"
      ],
      "metadata": {
        "id": "GDZBMQHGhQIw"
      },
      "execution_count": null,
      "outputs": []
    },
    {
      "cell_type": "markdown",
      "source": [
        "1. Standard Function:\n",
        "A basic function with a name and optional parameters."
      ],
      "metadata": {
        "id": "A3-bE4fdhhKB"
      }
    },
    {
      "cell_type": "code",
      "source": [
        "def greet(name):\n",
        "    print(f\"Hello, {name}!\")\n"
      ],
      "metadata": {
        "id": "_OmIYp0th5sf"
      },
      "execution_count": null,
      "outputs": []
    },
    {
      "cell_type": "code",
      "source": [
        "greet(\"Ashish\")"
      ],
      "metadata": {
        "colab": {
          "base_uri": "https://localhost:8080/"
        },
        "id": "14q1fN5ph92V",
        "outputId": "86802261-ad51-4aa4-857e-87cddce7e23a"
      },
      "execution_count": null,
      "outputs": [
        {
          "output_type": "stream",
          "name": "stdout",
          "text": [
            "Hello, Ashish!\n"
          ]
        }
      ]
    },
    {
      "cell_type": "markdown",
      "source": [
        "2. Function with Default Parameters:\n",
        "Define a function where some parameters have default values."
      ],
      "metadata": {
        "id": "oM02fdcQiCWd"
      }
    },
    {
      "cell_type": "code",
      "source": [
        "def greet(name=\"Friend\"):\n",
        "    print(f\"Hello, {name}!\")"
      ],
      "metadata": {
        "id": "mn-xCt_oiLC9"
      },
      "execution_count": null,
      "outputs": []
    },
    {
      "cell_type": "code",
      "source": [
        "greet() #Default Value"
      ],
      "metadata": {
        "colab": {
          "base_uri": "https://localhost:8080/"
        },
        "id": "uV6IluoAiOTW",
        "outputId": "a42b69be-2bf7-4418-8a8b-ad170fac07d0"
      },
      "execution_count": null,
      "outputs": [
        {
          "output_type": "stream",
          "name": "stdout",
          "text": [
            "Hello, Friend!\n"
          ]
        }
      ]
    },
    {
      "cell_type": "code",
      "source": [
        "greet(\"Ashish\") #passing argument"
      ],
      "metadata": {
        "colab": {
          "base_uri": "https://localhost:8080/"
        },
        "id": "ierbeNrtiS5d",
        "outputId": "c5c2d309-1cec-4c44-c4d9-a40ccdb37afe"
      },
      "execution_count": null,
      "outputs": [
        {
          "output_type": "stream",
          "name": "stdout",
          "text": [
            "Hello, Ashish!\n"
          ]
        }
      ]
    },
    {
      "cell_type": "markdown",
      "source": [
        "3. Function with Variable-Length Arguments :\n",
        "Useful when the number of inputs is unknown."
      ],
      "metadata": {
        "id": "vkS7T5sGinoJ"
      }
    },
    {
      "cell_type": "code",
      "source": [
        "def add_numbers(*args):  # *args collects multiple values into a tuple\n",
        "    return sum(args)"
      ],
      "metadata": {
        "id": "Cj6d69Rzit0D"
      },
      "execution_count": null,
      "outputs": []
    },
    {
      "cell_type": "code",
      "source": [
        "add_numbers(1,2,2,34,55,56,69) #arguments with more variables"
      ],
      "metadata": {
        "colab": {
          "base_uri": "https://localhost:8080/"
        },
        "id": "niHOLSzJi65g",
        "outputId": "c4b018bd-93b9-4183-beb5-dec22b9548d6"
      },
      "execution_count": null,
      "outputs": [
        {
          "output_type": "execute_result",
          "data": {
            "text/plain": [
              "219"
            ]
          },
          "metadata": {},
          "execution_count": 19
        }
      ]
    },
    {
      "cell_type": "code",
      "source": [
        "add_numbers(1,4,45,7) #arguments with less variable"
      ],
      "metadata": {
        "colab": {
          "base_uri": "https://localhost:8080/"
        },
        "id": "TU9yj3LOi_VW",
        "outputId": "10355203-5d65-439a-9d71-4452640a3d28"
      },
      "execution_count": null,
      "outputs": [
        {
          "output_type": "execute_result",
          "data": {
            "text/plain": [
              "57"
            ]
          },
          "metadata": {},
          "execution_count": 20
        }
      ]
    },
    {
      "cell_type": "markdown",
      "source": [
        "4. Anonymous Function (Lambda) :\n",
        "A one-liner function, often used for simple operations."
      ],
      "metadata": {
        "id": "R-Oe0axWjZXW"
      }
    },
    {
      "cell_type": "code",
      "source": [
        "square = lambda x: x ** 2"
      ],
      "metadata": {
        "id": "d4n_PrP8jbM0"
      },
      "execution_count": null,
      "outputs": []
    },
    {
      "cell_type": "code",
      "source": [
        "print(square(9))"
      ],
      "metadata": {
        "colab": {
          "base_uri": "https://localhost:8080/"
        },
        "id": "9ZEtKV0rjeGv",
        "outputId": "17be063e-8bf3-41be-a611-5420191ebc50"
      },
      "execution_count": null,
      "outputs": [
        {
          "output_type": "stream",
          "name": "stdout",
          "text": [
            "81\n"
          ]
        }
      ]
    },
    {
      "cell_type": "markdown",
      "source": [
        "5. Nested Function :\n",
        "Define one function inside another."
      ],
      "metadata": {
        "id": "XXZJrLC6jtve"
      }
    },
    {
      "cell_type": "code",
      "source": [
        "def outer_function(name):\n",
        "    def inner_function():\n",
        "        print(\"Hello\", name)\n",
        "    return inner_function()"
      ],
      "metadata": {
        "id": "tFHSQLUzjwoQ"
      },
      "execution_count": null,
      "outputs": []
    },
    {
      "cell_type": "code",
      "source": [
        "outer_function(\"Ashish\")"
      ],
      "metadata": {
        "colab": {
          "base_uri": "https://localhost:8080/"
        },
        "id": "RJLAkOMOj7VD",
        "outputId": "bd3f8a82-9354-422e-8397-9ca23b457a4b"
      },
      "execution_count": null,
      "outputs": [
        {
          "output_type": "stream",
          "name": "stdout",
          "text": [
            "Hello Ashish\n"
          ]
        }
      ]
    },
    {
      "cell_type": "code",
      "source": [
        "Ques 4. What is the purpose of the `return` statement in a Python function?"
      ],
      "metadata": {
        "id": "Z4uthbJXj-P9"
      },
      "execution_count": null,
      "outputs": []
    },
    {
      "cell_type": "markdown",
      "source": [
        "Ans. The return statement in a Python function is used to send a result back to the place where the function was called. It’s like a delivery system that allows the function to give you an answer after doing its job."
      ],
      "metadata": {
        "id": "YNHIFLwJlVn6"
      }
    },
    {
      "cell_type": "code",
      "source": [
        "#stops the function when return is executed\n",
        "def test():\n",
        "    print(\"Start\")\n",
        "    return \"Done\"\n",
        "    print(\"End\")  # This line will never run\n",
        "print(test())"
      ],
      "metadata": {
        "colab": {
          "base_uri": "https://localhost:8080/"
        },
        "id": "aAY_gr_lleux",
        "outputId": "cdd790b1-01ac-420e-c111-68e654d723fd"
      },
      "execution_count": null,
      "outputs": [
        {
          "output_type": "stream",
          "name": "stdout",
          "text": [
            "Start\n",
            "Done\n"
          ]
        }
      ]
    },
    {
      "cell_type": "code",
      "source": [
        "Ques 5. What are iterators in Python and how do they differ from iterables?"
      ],
      "metadata": {
        "id": "pKF1G56Yl0mT"
      },
      "execution_count": null,
      "outputs": []
    },
    {
      "cell_type": "markdown",
      "source": [
        "Ans. An iterator is like a bookmark for the book. It remembers where you are in the sequence so you can ask for the next page. Once you’ve gone through all the pages, the iterator lets you know there’s nothing left.\n",
        "\n",
        "An iterator is created from an iterable using the iter() function.\n",
        "It provides one item at a time using the next() function."
      ],
      "metadata": {
        "id": "aBGT8SUFmbUU"
      }
    },
    {
      "cell_type": "markdown",
      "source": [
        "The Main Difference:\n",
        "\n",
        "Iterable: An object that can be \"looped over\" or iterated through (like a list, string, etc.).\n",
        "\n",
        "Iterator: A tool that helps to fetch the next item from an iterable, one at a time."
      ],
      "metadata": {
        "id": "QxPxiZKomiU2"
      }
    },
    {
      "cell_type": "code",
      "source": [
        "my_list = [\"Apple\", \"Mango\", \"Banana\", \"Grapes\"] #list is Iterable\n",
        "for item in my_list:\n",
        "  print(item)"
      ],
      "metadata": {
        "colab": {
          "base_uri": "https://localhost:8080/"
        },
        "id": "jatRnIIzmuCx",
        "outputId": "9f51b739-1e16-4eef-aeb6-82279f455c2e"
      },
      "execution_count": null,
      "outputs": [
        {
          "output_type": "stream",
          "name": "stdout",
          "text": [
            "Apple\n",
            "Mango\n",
            "Banana\n",
            "Grapes\n"
          ]
        }
      ]
    },
    {
      "cell_type": "code",
      "source": [
        "my_list = [\"Apple\", \"Mango\", \"Banana\", \"Grapes\"]\n",
        "iterator = iter(my_list)"
      ],
      "metadata": {
        "id": "gx8C06FPnDXq"
      },
      "execution_count": null,
      "outputs": []
    },
    {
      "cell_type": "code",
      "source": [
        "print(next(iterator)) #Output1"
      ],
      "metadata": {
        "colab": {
          "base_uri": "https://localhost:8080/"
        },
        "id": "ri-uIHAjnaj1",
        "outputId": "6b484dd0-7f3d-43b0-8aa3-8fc61efca1b6"
      },
      "execution_count": null,
      "outputs": [
        {
          "output_type": "stream",
          "name": "stdout",
          "text": [
            "Apple\n"
          ]
        }
      ]
    },
    {
      "cell_type": "code",
      "source": [
        "print(next(iterator)) #Output2"
      ],
      "metadata": {
        "colab": {
          "base_uri": "https://localhost:8080/"
        },
        "id": "c1LhucNjnfz6",
        "outputId": "402a4452-ae5d-4de4-9b37-0f86289c9891"
      },
      "execution_count": null,
      "outputs": [
        {
          "output_type": "stream",
          "name": "stdout",
          "text": [
            "Mango\n"
          ]
        }
      ]
    },
    {
      "cell_type": "code",
      "source": [
        "print(next(iterator)) #Output3"
      ],
      "metadata": {
        "colab": {
          "base_uri": "https://localhost:8080/"
        },
        "id": "YGO6HSi5nmqa",
        "outputId": "cc90ffc5-412a-4591-80db-2d9a4a5ce1d5"
      },
      "execution_count": null,
      "outputs": [
        {
          "output_type": "stream",
          "name": "stdout",
          "text": [
            "Banana\n"
          ]
        }
      ]
    },
    {
      "cell_type": "code",
      "source": [
        "print(next(iterator)) #Output4"
      ],
      "metadata": {
        "colab": {
          "base_uri": "https://localhost:8080/"
        },
        "id": "nCIPN4-HnoGI",
        "outputId": "30c06b2c-b4f2-4853-e806-b42f58c5d5b3"
      },
      "execution_count": null,
      "outputs": [
        {
          "output_type": "stream",
          "name": "stdout",
          "text": [
            "Grapes\n"
          ]
        }
      ]
    },
    {
      "cell_type": "code",
      "source": [
        "print(next(iterator)) #No Output"
      ],
      "metadata": {
        "colab": {
          "base_uri": "https://localhost:8080/",
          "height": 141
        },
        "id": "6nybUpqpnprR",
        "outputId": "e39332af-0224-400a-99bc-8a63f99d15eb"
      },
      "execution_count": null,
      "outputs": [
        {
          "output_type": "error",
          "ename": "StopIteration",
          "evalue": "",
          "traceback": [
            "\u001b[0;31m---------------------------------------------------------------------------\u001b[0m",
            "\u001b[0;31mStopIteration\u001b[0m                             Traceback (most recent call last)",
            "\u001b[0;32m<ipython-input-46-3859b5cfd5da>\u001b[0m in \u001b[0;36m<cell line: 1>\u001b[0;34m()\u001b[0m\n\u001b[0;32m----> 1\u001b[0;31m \u001b[0mprint\u001b[0m\u001b[0;34m(\u001b[0m\u001b[0mnext\u001b[0m\u001b[0;34m(\u001b[0m\u001b[0miterator\u001b[0m\u001b[0;34m)\u001b[0m\u001b[0;34m)\u001b[0m \u001b[0;31m#No Output\u001b[0m\u001b[0;34m\u001b[0m\u001b[0;34m\u001b[0m\u001b[0m\n\u001b[0m",
            "\u001b[0;31mStopIteration\u001b[0m: "
          ]
        }
      ]
    },
    {
      "cell_type": "code",
      "source": [
        "Ques 6.  Explain the concept of generators in Python and how they are defined"
      ],
      "metadata": {
        "id": "p05trOjRnsfO"
      },
      "execution_count": null,
      "outputs": []
    },
    {
      "cell_type": "markdown",
      "source": [
        "Ans. generators are special types of functions in Python that allow you to create a sequence of values on the fly, one at a time, instead of creating and storing the entire sequence in memory at once. They’re like a factory that produces items one by one when asked, instead of making everything upfront."
      ],
      "metadata": {
        "id": "2li0T0rNoJg7"
      }
    },
    {
      "cell_type": "code",
      "source": [
        "#defining a generator\n",
        "def generator():\n",
        "    yield 1\n",
        "    yield 2\n",
        "    yield 3"
      ],
      "metadata": {
        "id": "vw1IFj9XoLzp"
      },
      "execution_count": null,
      "outputs": []
    },
    {
      "cell_type": "code",
      "source": [
        "gen = generator()\n"
      ],
      "metadata": {
        "id": "YG1XYjFPoRE-"
      },
      "execution_count": null,
      "outputs": []
    },
    {
      "cell_type": "code",
      "source": [
        "print(next(gen)) #Output 1"
      ],
      "metadata": {
        "colab": {
          "base_uri": "https://localhost:8080/"
        },
        "id": "4qLN5l8Yoatg",
        "outputId": "ee4f9b08-17d6-4c79-88c5-8f7164892101"
      },
      "execution_count": null,
      "outputs": [
        {
          "output_type": "stream",
          "name": "stdout",
          "text": [
            "1\n"
          ]
        }
      ]
    },
    {
      "cell_type": "code",
      "source": [
        "print(next(gen)) #Output 2"
      ],
      "metadata": {
        "colab": {
          "base_uri": "https://localhost:8080/"
        },
        "id": "THUe1vKEoedN",
        "outputId": "a72eb54e-60a3-4828-d3e1-ac81aa19cb7a"
      },
      "execution_count": null,
      "outputs": [
        {
          "output_type": "stream",
          "name": "stdout",
          "text": [
            "2\n"
          ]
        }
      ]
    },
    {
      "cell_type": "code",
      "source": [
        "print(next(gen)) #Output 3"
      ],
      "metadata": {
        "colab": {
          "base_uri": "https://localhost:8080/"
        },
        "id": "DuIpbMzFohQb",
        "outputId": "cf453d39-7c21-4f63-c435-95d013bc76b1"
      },
      "execution_count": null,
      "outputs": [
        {
          "output_type": "stream",
          "name": "stdout",
          "text": [
            "3\n"
          ]
        }
      ]
    },
    {
      "cell_type": "code",
      "source": [
        "print(next(gen)) #No output"
      ],
      "metadata": {
        "colab": {
          "base_uri": "https://localhost:8080/",
          "height": 141
        },
        "id": "LgoiUAtpoi5N",
        "outputId": "1baf8a8e-7c8d-4243-8c3c-715e81d4d8e3"
      },
      "execution_count": null,
      "outputs": [
        {
          "output_type": "error",
          "ename": "StopIteration",
          "evalue": "",
          "traceback": [
            "\u001b[0;31m---------------------------------------------------------------------------\u001b[0m",
            "\u001b[0;31mStopIteration\u001b[0m                             Traceback (most recent call last)",
            "\u001b[0;32m<ipython-input-53-1ed7dc5b9dff>\u001b[0m in \u001b[0;36m<cell line: 1>\u001b[0;34m()\u001b[0m\n\u001b[0;32m----> 1\u001b[0;31m \u001b[0mprint\u001b[0m\u001b[0;34m(\u001b[0m\u001b[0mnext\u001b[0m\u001b[0;34m(\u001b[0m\u001b[0mgen\u001b[0m\u001b[0;34m)\u001b[0m\u001b[0;34m)\u001b[0m \u001b[0;31m#No output\u001b[0m\u001b[0;34m\u001b[0m\u001b[0;34m\u001b[0m\u001b[0m\n\u001b[0m",
            "\u001b[0;31mStopIteration\u001b[0m: "
          ]
        }
      ]
    },
    {
      "cell_type": "code",
      "source": [
        "Ques 7. What are the advantages of using generators over regular functions?\n"
      ],
      "metadata": {
        "id": "rXovJ0fqolGM"
      },
      "execution_count": null,
      "outputs": []
    },
    {
      "cell_type": "markdown",
      "source": [
        "Ans. Advantages of Generators Over Regular Functions:\n",
        "\n",
        "Memory Efficient: Produce one value at a time, saving memory for large datasets.\n",
        "\n",
        "Lazy Evaluation: Compute values only when needed, avoiding unnecessary calculations.\n",
        "\n",
        "Handle Infinite Sequences: Can generate endless data without crashing.\n",
        "\n",
        "Faster Start-Up: No need to compute all values upfront, improving performance.\n",
        "\n",
        "Simpler Code: Automatically remembers its state (yield makes iteration logic cleaner).\n",
        "\n",
        "Temporary Use: Ideal for processing data without storing it permanently."
      ],
      "metadata": {
        "id": "Jp68Vm9zpKvF"
      }
    },
    {
      "cell_type": "code",
      "source": [
        "#Example\n",
        "#Generator can produce numbers forever\n",
        "\n",
        "def generate_numbers(n):\n",
        "    for i in range(n):\n",
        "        yield i\n",
        "\n",
        "# Create a generator that generates 1 million numbers\n",
        "gen = generate_numbers(10**6)\n",
        "\n",
        "# Print the first 10 numbers\n",
        "for p in range(10):\n",
        "    print(next(gen))"
      ],
      "metadata": {
        "colab": {
          "base_uri": "https://localhost:8080/"
        },
        "id": "i4jk1fyIpam4",
        "outputId": "2d5f6211-698b-442d-abac-6984957101ab"
      },
      "execution_count": null,
      "outputs": [
        {
          "output_type": "stream",
          "name": "stdout",
          "text": [
            "0\n",
            "1\n",
            "2\n",
            "3\n",
            "4\n",
            "5\n",
            "6\n",
            "7\n",
            "8\n",
            "9\n"
          ]
        }
      ]
    },
    {
      "cell_type": "code",
      "source": [
        "# Print the next 10 numbers\n",
        "for p in range(10,20):\n",
        "    print(next(gen))"
      ],
      "metadata": {
        "colab": {
          "base_uri": "https://localhost:8080/"
        },
        "id": "Lek2WTo_pln5",
        "outputId": "93f0f699-fd22-4761-8e82-0b8c9435a034"
      },
      "execution_count": null,
      "outputs": [
        {
          "output_type": "stream",
          "name": "stdout",
          "text": [
            "10\n",
            "11\n",
            "12\n",
            "13\n",
            "14\n",
            "15\n",
            "16\n",
            "17\n",
            "18\n",
            "19\n"
          ]
        }
      ]
    },
    {
      "cell_type": "code",
      "source": [
        "Ques 8. What is a lambda function in Python and when is it typically used?"
      ],
      "metadata": {
        "id": "FCUKLKYrqKZ_"
      },
      "execution_count": null,
      "outputs": []
    },
    {
      "cell_type": "markdown",
      "source": [
        "Ans. A lambda function in Python is a small, one-line anonymous function that doesn’t need a name. It’s useful when you need a quick, simple function for a short task without the overhead of formally defining it with def."
      ],
      "metadata": {
        "id": "KUMvbY8prqA2"
      }
    },
    {
      "cell_type": "code",
      "source": [
        "#Regular function\n",
        "def sum(a,b):\n",
        "  return a+b"
      ],
      "metadata": {
        "id": "y7kXVNGnrz45"
      },
      "execution_count": null,
      "outputs": []
    },
    {
      "cell_type": "code",
      "source": [
        "sum(9,99)"
      ],
      "metadata": {
        "colab": {
          "base_uri": "https://localhost:8080/"
        },
        "id": "MRsHJ4NJr62K",
        "outputId": "a5abded1-7800-4d5c-9fe6-9ff65cfa4cba"
      },
      "execution_count": null,
      "outputs": [
        {
          "output_type": "execute_result",
          "data": {
            "text/plain": [
              "108"
            ]
          },
          "metadata": {},
          "execution_count": 87
        }
      ]
    },
    {
      "cell_type": "code",
      "source": [
        "#lambda function\n",
        "sum = lambda a,b:a+b"
      ],
      "metadata": {
        "id": "qQh9W7bHr9wE"
      },
      "execution_count": null,
      "outputs": []
    },
    {
      "cell_type": "code",
      "source": [
        "print(sum(9,87))"
      ],
      "metadata": {
        "colab": {
          "base_uri": "https://localhost:8080/"
        },
        "id": "WLqO9pYDsDv4",
        "outputId": "82292a97-d260-4994-f7e7-9ae0cb304344"
      },
      "execution_count": null,
      "outputs": [
        {
          "output_type": "stream",
          "name": "stdout",
          "text": [
            "96\n"
          ]
        }
      ]
    },
    {
      "cell_type": "code",
      "source": [
        "Ques 9. Explain the purpose and usage of the `map()` function in Python."
      ],
      "metadata": {
        "id": "wUfQt7gYsJwG"
      },
      "execution_count": null,
      "outputs": []
    },
    {
      "cell_type": "markdown",
      "source": [
        "Ans. The map() function in Python is used to apply a function to each item in a sequence (like a list, tuple, or string) and return a new sequence (as a map object) containing the results. It's like sending every item in your sequence through a transformation machine!"
      ],
      "metadata": {
        "id": "wgoPfa6osvYS"
      }
    },
    {
      "cell_type": "code",
      "source": [
        "#Example\n",
        "#Converting string to UpperCase\n",
        "words = [\"ashish\", \"aman\", \"pwskills\"]\n",
        "result = map(str.upper, words)\n",
        "print(list(result))"
      ],
      "metadata": {
        "colab": {
          "base_uri": "https://localhost:8080/"
        },
        "id": "aBGsqOp-s1LC",
        "outputId": "11932b87-8296-4264-8fd9-e146aef6f230"
      },
      "execution_count": null,
      "outputs": [
        {
          "output_type": "stream",
          "name": "stdout",
          "text": [
            "['ASHISH', 'AMAN', 'PWSKILLS']\n"
          ]
        }
      ]
    },
    {
      "cell_type": "code",
      "source": [
        "Ques 10. What is the difference between `map()`, `reduce()`, and `filter()` functions in Python?"
      ],
      "metadata": {
        "id": "I4KQ4LVttBA6"
      },
      "execution_count": null,
      "outputs": []
    },
    {
      "cell_type": "markdown",
      "source": [
        "Ans. 1. map()\n",
        "\n",
        "Purpose: Transform each item in a sequence and return a new sequence.\n",
        "\n",
        "Think of map() as a transformation tool. It applies a given function to each item in a sequence and gives back a sequence of transformed items."
      ],
      "metadata": {
        "id": "7UwYJLA9tlS0"
      }
    },
    {
      "cell_type": "code",
      "source": [
        "#Example\n",
        "#double each number\n",
        "numbers = [1,3,4,5]\n",
        "result = map(lambda x: x*2, numbers)\n",
        "print(list(result))"
      ],
      "metadata": {
        "colab": {
          "base_uri": "https://localhost:8080/"
        },
        "id": "tE2yGfhAtszz",
        "outputId": "1a7fd045-26d2-40d6-c916-3cc48fd51f2d"
      },
      "execution_count": null,
      "outputs": [
        {
          "output_type": "stream",
          "name": "stdout",
          "text": [
            "[2, 6, 8, 10]\n"
          ]
        }
      ]
    },
    {
      "cell_type": "markdown",
      "source": [
        "2. filter()\n",
        "\n",
        "Purpose: Keep only the items that satisfy a certain condition.\n",
        "\n",
        "Think of filter() as a sieve. It filters out items in a sequence based on a condition (a function that returns True or False)."
      ],
      "metadata": {
        "id": "jWSUTwAGuK8g"
      }
    },
    {
      "cell_type": "code",
      "source": [
        "#Example\n",
        "#Even numbers\n",
        "numbers = [1,3,4,5,8,6,10,67,91,98]\n",
        "result = filter(lambda x: x%2==0, numbers)\n",
        "print(list(result))"
      ],
      "metadata": {
        "colab": {
          "base_uri": "https://localhost:8080/"
        },
        "id": "XGSTV7xKuNbv",
        "outputId": "ff4fc14b-bd92-4ec5-b038-1dff8929f8c4"
      },
      "execution_count": null,
      "outputs": [
        {
          "output_type": "stream",
          "name": "stdout",
          "text": [
            "[4, 8, 6, 10, 98]\n"
          ]
        }
      ]
    },
    {
      "cell_type": "markdown",
      "source": [
        "3. reduce()\n",
        "\n",
        "Purpose: Combine all the items in a sequence into a single value.\n",
        "\n",
        "Think of reduce() as a reducer. It takes the items in a sequence, applies a function to combine them two at a time, and keeps combining until one final result is left."
      ],
      "metadata": {
        "id": "7Qy5Yt1_uin5"
      }
    },
    {
      "cell_type": "code",
      "source": [
        "#Example\n",
        "#sum of all\n",
        "from functools import reduce\n",
        "numbers = [1,3,4,5,8,6,10,67,91,98]\n",
        "result = reduce(lambda x,y: x+y, numbers)\n",
        "print((result))"
      ],
      "metadata": {
        "colab": {
          "base_uri": "https://localhost:8080/"
        },
        "id": "u8IGwKpCukZr",
        "outputId": "0d9be1dc-b971-49aa-e8ee-61370544ff19"
      },
      "execution_count": null,
      "outputs": [
        {
          "output_type": "stream",
          "name": "stdout",
          "text": [
            "293\n"
          ]
        }
      ]
    },
    {
      "cell_type": "code",
      "source": [
        " Ques 11. Using pen & Paper write the internal mechanism for sum operation using  reduce function on this given\n",
        "list:[47,11,42,13];"
      ],
      "metadata": {
        "id": "TPJdh86yuq1P"
      },
      "execution_count": null,
      "outputs": []
    },
    {
      "cell_type": "code",
      "source": [
        "from functools import reduce\n",
        "numbers = [47,11,42,13]\n",
        "sum_result = reduce(lambda x, y: x+ y, numbers)\n",
        "print(\"Sum of the numbers\", sum_result)"
      ],
      "metadata": {
        "colab": {
          "base_uri": "https://localhost:8080/"
        },
        "id": "Ysfc_xKwvB69",
        "outputId": "d9237e6c-7723-41e4-bb39-c3dd1f79d860"
      },
      "execution_count": null,
      "outputs": [
        {
          "output_type": "stream",
          "name": "stdout",
          "text": [
            "Sum of the numbers 113\n"
          ]
        }
      ]
    },
    {
      "cell_type": "markdown",
      "source": [
        "![Ques 11.jpg](data:image/jpeg;base64,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)"
      ],
      "metadata": {
        "id": "wmDwRkp2wxO5"
      }
    },
    {
      "cell_type": "markdown",
      "source": [
        "###Practical Questions"
      ],
      "metadata": {
        "id": "2FEmtzA2w6UK"
      }
    },
    {
      "cell_type": "code",
      "source": [
        "Ques 1. Write a Python function that takes a list of numbers as input and returns the sum of all even numbers in\n",
        "the list."
      ],
      "metadata": {
        "id": "hkwiv8n_xJoF"
      },
      "execution_count": null,
      "outputs": []
    },
    {
      "cell_type": "code",
      "source": [
        "#sum of integers\n",
        "def sum_even_numbers(numbers):\n",
        "  list = 0\n",
        "  for num in numbers:\n",
        "    if num % 2 == 0:\n",
        "      list += num\n",
        "  return list\n"
      ],
      "metadata": {
        "id": "opX-o6GSxPUb"
      },
      "execution_count": null,
      "outputs": []
    },
    {
      "cell_type": "code",
      "source": [
        "numbers = [1,2,3,4,5,6,7,8,9,10]\n",
        "print(sum_even_numbers(numbers))"
      ],
      "metadata": {
        "colab": {
          "base_uri": "https://localhost:8080/"
        },
        "id": "sC7_-SF0x1K_",
        "outputId": "d3f309d9-116f-4571-d94e-fcc0acc54b4c"
      },
      "execution_count": null,
      "outputs": [
        {
          "output_type": "stream",
          "name": "stdout",
          "text": [
            "30\n"
          ]
        }
      ]
    },
    {
      "cell_type": "code",
      "source": [
        "Ques 2. Create a Python function that accepts a string and returns the reverse of that string."
      ],
      "metadata": {
        "id": "RpmeFSKrx_BS"
      },
      "execution_count": null,
      "outputs": []
    },
    {
      "cell_type": "code",
      "source": [
        "#reverse string\n",
        "def reverse_string(string):\n",
        "    return string[::-1]"
      ],
      "metadata": {
        "id": "jUJfTLUCypgl"
      },
      "execution_count": null,
      "outputs": []
    },
    {
      "cell_type": "code",
      "source": [
        "reverse_string(\"Ashish Prakash\")"
      ],
      "metadata": {
        "colab": {
          "base_uri": "https://localhost:8080/",
          "height": 36
        },
        "id": "cBRqydB0y5eR",
        "outputId": "4ab358bb-e31c-4e32-e112-f291fdf8ce84"
      },
      "execution_count": null,
      "outputs": [
        {
          "output_type": "execute_result",
          "data": {
            "text/plain": [
              "'hsakarP hsihsA'"
            ],
            "application/vnd.google.colaboratory.intrinsic+json": {
              "type": "string"
            }
          },
          "metadata": {},
          "execution_count": 124
        }
      ]
    },
    {
      "cell_type": "code",
      "source": [
        "Ques 3. Implement a Python function that takes a list of integers and returns a new list containing the squares of\n",
        "each number."
      ],
      "metadata": {
        "id": "WZRi6AG2zqCJ"
      },
      "execution_count": null,
      "outputs": []
    },
    {
      "cell_type": "code",
      "source": [
        "# Square of integers\n",
        "def square_numbers(numbers):\n",
        "  squares = []\n",
        "  for num in numbers:\n",
        "    squares.append(num ** 2)\n",
        "  return squares\n"
      ],
      "metadata": {
        "id": "3ee679wc0EJa"
      },
      "execution_count": null,
      "outputs": []
    },
    {
      "cell_type": "code",
      "source": [
        "square_numbers([1,2,3,4,5])"
      ],
      "metadata": {
        "colab": {
          "base_uri": "https://localhost:8080/"
        },
        "id": "ELKN4-cM9oHS",
        "outputId": "ff453665-3197-4f9a-bd0f-b49ccd81b7cd"
      },
      "execution_count": null,
      "outputs": [
        {
          "output_type": "execute_result",
          "data": {
            "text/plain": [
              "[1, 4, 9, 16, 25]"
            ]
          },
          "metadata": {},
          "execution_count": 194
        }
      ]
    },
    {
      "cell_type": "code",
      "source": [
        "Ques 4. Write a Python function that checks if a given number is prime or not from 1 to 200."
      ],
      "metadata": {
        "id": "HEYjPaPM2Rh7"
      },
      "execution_count": null,
      "outputs": []
    },
    {
      "cell_type": "code",
      "source": [
        "#Primenumbers\n",
        "\n",
        "def prime_number(numbers):\n",
        "  for num in numbers:\n",
        "    if num >= 1:\n",
        "      for i in range(2, num):\n",
        "        if (num % i) == 0:\n",
        "          print(num, \"is not a prime number\")\n",
        "          break\n",
        "      else:\n",
        "        print(num, \"is a prime number\")\n",
        "\n",
        "prime_number(range(1,201))"
      ],
      "metadata": {
        "colab": {
          "base_uri": "https://localhost:8080/"
        },
        "id": "jS2J12W065e7",
        "outputId": "3ab475e8-11f5-44a7-831c-37c798bcb400"
      },
      "execution_count": null,
      "outputs": [
        {
          "output_type": "stream",
          "name": "stdout",
          "text": [
            "1 is a prime number\n",
            "2 is a prime number\n",
            "3 is a prime number\n",
            "4 is not a prime number\n",
            "5 is a prime number\n",
            "6 is not a prime number\n",
            "7 is a prime number\n",
            "8 is not a prime number\n",
            "9 is not a prime number\n",
            "10 is not a prime number\n",
            "11 is a prime number\n",
            "12 is not a prime number\n",
            "13 is a prime number\n",
            "14 is not a prime number\n",
            "15 is not a prime number\n",
            "16 is not a prime number\n",
            "17 is a prime number\n",
            "18 is not a prime number\n",
            "19 is a prime number\n",
            "20 is not a prime number\n",
            "21 is not a prime number\n",
            "22 is not a prime number\n",
            "23 is a prime number\n",
            "24 is not a prime number\n",
            "25 is not a prime number\n",
            "26 is not a prime number\n",
            "27 is not a prime number\n",
            "28 is not a prime number\n",
            "29 is a prime number\n",
            "30 is not a prime number\n",
            "31 is a prime number\n",
            "32 is not a prime number\n",
            "33 is not a prime number\n",
            "34 is not a prime number\n",
            "35 is not a prime number\n",
            "36 is not a prime number\n",
            "37 is a prime number\n",
            "38 is not a prime number\n",
            "39 is not a prime number\n",
            "40 is not a prime number\n",
            "41 is a prime number\n",
            "42 is not a prime number\n",
            "43 is a prime number\n",
            "44 is not a prime number\n",
            "45 is not a prime number\n",
            "46 is not a prime number\n",
            "47 is a prime number\n",
            "48 is not a prime number\n",
            "49 is not a prime number\n",
            "50 is not a prime number\n",
            "51 is not a prime number\n",
            "52 is not a prime number\n",
            "53 is a prime number\n",
            "54 is not a prime number\n",
            "55 is not a prime number\n",
            "56 is not a prime number\n",
            "57 is not a prime number\n",
            "58 is not a prime number\n",
            "59 is a prime number\n",
            "60 is not a prime number\n",
            "61 is a prime number\n",
            "62 is not a prime number\n",
            "63 is not a prime number\n",
            "64 is not a prime number\n",
            "65 is not a prime number\n",
            "66 is not a prime number\n",
            "67 is a prime number\n",
            "68 is not a prime number\n",
            "69 is not a prime number\n",
            "70 is not a prime number\n",
            "71 is a prime number\n",
            "72 is not a prime number\n",
            "73 is a prime number\n",
            "74 is not a prime number\n",
            "75 is not a prime number\n",
            "76 is not a prime number\n",
            "77 is not a prime number\n",
            "78 is not a prime number\n",
            "79 is a prime number\n",
            "80 is not a prime number\n",
            "81 is not a prime number\n",
            "82 is not a prime number\n",
            "83 is a prime number\n",
            "84 is not a prime number\n",
            "85 is not a prime number\n",
            "86 is not a prime number\n",
            "87 is not a prime number\n",
            "88 is not a prime number\n",
            "89 is a prime number\n",
            "90 is not a prime number\n",
            "91 is not a prime number\n",
            "92 is not a prime number\n",
            "93 is not a prime number\n",
            "94 is not a prime number\n",
            "95 is not a prime number\n",
            "96 is not a prime number\n",
            "97 is a prime number\n",
            "98 is not a prime number\n",
            "99 is not a prime number\n",
            "100 is not a prime number\n",
            "101 is a prime number\n",
            "102 is not a prime number\n",
            "103 is a prime number\n",
            "104 is not a prime number\n",
            "105 is not a prime number\n",
            "106 is not a prime number\n",
            "107 is a prime number\n",
            "108 is not a prime number\n",
            "109 is a prime number\n",
            "110 is not a prime number\n",
            "111 is not a prime number\n",
            "112 is not a prime number\n",
            "113 is a prime number\n",
            "114 is not a prime number\n",
            "115 is not a prime number\n",
            "116 is not a prime number\n",
            "117 is not a prime number\n",
            "118 is not a prime number\n",
            "119 is not a prime number\n",
            "120 is not a prime number\n",
            "121 is not a prime number\n",
            "122 is not a prime number\n",
            "123 is not a prime number\n",
            "124 is not a prime number\n",
            "125 is not a prime number\n",
            "126 is not a prime number\n",
            "127 is a prime number\n",
            "128 is not a prime number\n",
            "129 is not a prime number\n",
            "130 is not a prime number\n",
            "131 is a prime number\n",
            "132 is not a prime number\n",
            "133 is not a prime number\n",
            "134 is not a prime number\n",
            "135 is not a prime number\n",
            "136 is not a prime number\n",
            "137 is a prime number\n",
            "138 is not a prime number\n",
            "139 is a prime number\n",
            "140 is not a prime number\n",
            "141 is not a prime number\n",
            "142 is not a prime number\n",
            "143 is not a prime number\n",
            "144 is not a prime number\n",
            "145 is not a prime number\n",
            "146 is not a prime number\n",
            "147 is not a prime number\n",
            "148 is not a prime number\n",
            "149 is a prime number\n",
            "150 is not a prime number\n",
            "151 is a prime number\n",
            "152 is not a prime number\n",
            "153 is not a prime number\n",
            "154 is not a prime number\n",
            "155 is not a prime number\n",
            "156 is not a prime number\n",
            "157 is a prime number\n",
            "158 is not a prime number\n",
            "159 is not a prime number\n",
            "160 is not a prime number\n",
            "161 is not a prime number\n",
            "162 is not a prime number\n",
            "163 is a prime number\n",
            "164 is not a prime number\n",
            "165 is not a prime number\n",
            "166 is not a prime number\n",
            "167 is a prime number\n",
            "168 is not a prime number\n",
            "169 is not a prime number\n",
            "170 is not a prime number\n",
            "171 is not a prime number\n",
            "172 is not a prime number\n",
            "173 is a prime number\n",
            "174 is not a prime number\n",
            "175 is not a prime number\n",
            "176 is not a prime number\n",
            "177 is not a prime number\n",
            "178 is not a prime number\n",
            "179 is a prime number\n",
            "180 is not a prime number\n",
            "181 is a prime number\n",
            "182 is not a prime number\n",
            "183 is not a prime number\n",
            "184 is not a prime number\n",
            "185 is not a prime number\n",
            "186 is not a prime number\n",
            "187 is not a prime number\n",
            "188 is not a prime number\n",
            "189 is not a prime number\n",
            "190 is not a prime number\n",
            "191 is a prime number\n",
            "192 is not a prime number\n",
            "193 is a prime number\n",
            "194 is not a prime number\n",
            "195 is not a prime number\n",
            "196 is not a prime number\n",
            "197 is a prime number\n",
            "198 is not a prime number\n",
            "199 is a prime number\n",
            "200 is not a prime number\n"
          ]
        }
      ]
    },
    {
      "cell_type": "code",
      "source": [
        "Ques 5. Create an iterator class in Python that generates the Fibonacci sequence up to a specified number of\n",
        "terms."
      ],
      "metadata": {
        "id": "unAS0-TZ8NuJ"
      },
      "execution_count": null,
      "outputs": []
    },
    {
      "cell_type": "code",
      "source": [
        "#fibonacci\n",
        "def fib(n):\n",
        "  a = 0\n",
        "  b = 1\n",
        "  c = 0\n",
        "  for i in range(n):\n",
        "    yield a\n",
        "    c = a + b\n",
        "    a = b\n",
        "    b = c"
      ],
      "metadata": {
        "id": "lSS3c2kC-cb1"
      },
      "execution_count": null,
      "outputs": []
    },
    {
      "cell_type": "code",
      "source": [
        "f = fib(10)"
      ],
      "metadata": {
        "id": "ylS6RaAE-d19"
      },
      "execution_count": null,
      "outputs": []
    },
    {
      "cell_type": "code",
      "source": [
        "next(f)"
      ],
      "metadata": {
        "colab": {
          "base_uri": "https://localhost:8080/"
        },
        "id": "PpGSlxKp-vf1",
        "outputId": "6d451cf1-61c1-4573-b54d-8072b6a986e0"
      },
      "execution_count": null,
      "outputs": [
        {
          "output_type": "execute_result",
          "data": {
            "text/plain": [
              "0"
            ]
          },
          "metadata": {},
          "execution_count": 207
        }
      ]
    },
    {
      "cell_type": "code",
      "source": [
        "next(f)"
      ],
      "metadata": {
        "colab": {
          "base_uri": "https://localhost:8080/"
        },
        "id": "yFMEKjQ8-1QN",
        "outputId": "9a546afe-555d-4e93-a3b7-d2df37e9c9a2"
      },
      "execution_count": null,
      "outputs": [
        {
          "output_type": "execute_result",
          "data": {
            "text/plain": [
              "1"
            ]
          },
          "metadata": {},
          "execution_count": 208
        }
      ]
    },
    {
      "cell_type": "code",
      "source": [
        "next(f)\n"
      ],
      "metadata": {
        "colab": {
          "base_uri": "https://localhost:8080/"
        },
        "id": "z3sm4k0O_b8z",
        "outputId": "6d0649ea-1022-4475-b605-4af65edd324d"
      },
      "execution_count": null,
      "outputs": [
        {
          "output_type": "execute_result",
          "data": {
            "text/plain": [
              "1"
            ]
          },
          "metadata": {},
          "execution_count": 209
        }
      ]
    },
    {
      "cell_type": "code",
      "source": [
        "next(f)"
      ],
      "metadata": {
        "colab": {
          "base_uri": "https://localhost:8080/"
        },
        "id": "wXrPI9zv_dIq",
        "outputId": "f12f4651-bd63-42cf-d972-805c0951e353"
      },
      "execution_count": null,
      "outputs": [
        {
          "output_type": "execute_result",
          "data": {
            "text/plain": [
              "2"
            ]
          },
          "metadata": {},
          "execution_count": 210
        }
      ]
    },
    {
      "cell_type": "code",
      "source": [
        "Ques 6. Write a generator function in Python that yields the powers of 2 up to a given exponent."
      ],
      "metadata": {
        "id": "IzbNnbbp_e3z"
      },
      "execution_count": null,
      "outputs": []
    },
    {
      "cell_type": "code",
      "source": [
        "#Powers of 2\n",
        "def powers_of_two(exponent):\n",
        "  for i in range(exponent + 1):\n",
        "        yield 2 ** i\n"
      ],
      "metadata": {
        "id": "jLGIHfOt_qFt"
      },
      "execution_count": null,
      "outputs": []
    },
    {
      "cell_type": "code",
      "source": [
        "  for power in powers_of_two(5):\n",
        "         print(power)"
      ],
      "metadata": {
        "colab": {
          "base_uri": "https://localhost:8080/"
        },
        "id": "VZ2nHVykAEPI",
        "outputId": "ab6b89f8-a485-4b1d-f1f6-1bc462bac3a7"
      },
      "execution_count": null,
      "outputs": [
        {
          "output_type": "stream",
          "name": "stdout",
          "text": [
            "1\n",
            "2\n",
            "4\n",
            "8\n",
            "16\n",
            "32\n"
          ]
        }
      ]
    },
    {
      "cell_type": "code",
      "source": [
        "Ques 7. Implement a generator function that reads a file line by line and yields each line as a string."
      ],
      "metadata": {
        "id": "vmraUOiuAXH-"
      },
      "execution_count": null,
      "outputs": []
    },
    {
      "cell_type": "code",
      "source": [
        "def read_file_line_by_line(file_path):\n",
        "    \"\"\"Generator function that reads a file line by line.\"\"\"\n",
        "    try:\n",
        "        with open(file_path, 'r') as file:\n",
        "            for line in file:\n",
        "                yield line.strip()  # Stripping newline characters\n",
        "    except FileNotFoundError:\n",
        "        print(f\"The file {file_path} does not exist.\")"
      ],
      "metadata": {
        "id": "XiRY-PqAAhls"
      },
      "execution_count": null,
      "outputs": []
    },
    {
      "cell_type": "code",
      "source": [
        "#Usage Example:\n",
        "\n",
        "#Create a sample file to work with (e.g., sample.txt):\n",
        "!echo \"Hello, this is the first line.\" > sample.txt\n",
        "!echo \"This is the second line.\" >> sample.txt\n",
        "!echo \"And this is the third line.\" >> sample.txt # Removed the unexpected indentation"
      ],
      "metadata": {
        "id": "U14G39rI1Yco"
      },
      "execution_count": 7,
      "outputs": []
    },
    {
      "cell_type": "code",
      "source": [
        " #2. Use the generator function:\n",
        "\n",
        "# Define the file path\n",
        "file_path = \"sample.txt\"\n",
        "\n",
        "# Use the generator to read lines\n",
        "for line in read_file_line_by_line(file_path):\n",
        "    print(line)\n",
        "\n"
      ],
      "metadata": {
        "id": "Jq_pjKSX1cvs",
        "colab": {
          "base_uri": "https://localhost:8080/"
        },
        "outputId": "0013a0ac-5695-478f-ed6a-0e5e01cfe637"
      },
      "execution_count": 8,
      "outputs": [
        {
          "output_type": "stream",
          "name": "stdout",
          "text": [
            "Hello, this is the first line.\n",
            "This is the second line.\n",
            "And this is the third line.\n"
          ]
        }
      ]
    },
    {
      "cell_type": "code",
      "source": [
        "Ques 8. Use a lambda function in Python to sort a list of tuples based on the second element of each tuple"
      ],
      "metadata": {
        "id": "pNn8SXFb2pJo"
      },
      "execution_count": null,
      "outputs": []
    },
    {
      "cell_type": "code",
      "source": [
        "# Define the list of tuples\n",
        "tuples_list = [(1, 9), (3, 7), (2, 5), (4, 1)]\n",
        "\n",
        "# Use a lambda function as the key for the sort method\n",
        "sorted_tuples = sorted(tuples_list, key=lambda x: x[1])\n",
        "\n",
        "# Print the sorted list of tuples\n",
        "print(sorted_tuples)\n"
      ],
      "metadata": {
        "colab": {
          "base_uri": "https://localhost:8080/"
        },
        "id": "OrRvt3fZ2wyk",
        "outputId": "23a38ba4-b22d-43b6-e569-be67708250d3"
      },
      "execution_count": 9,
      "outputs": [
        {
          "output_type": "stream",
          "name": "stdout",
          "text": [
            "[(4, 1), (2, 5), (3, 7), (1, 9)]\n"
          ]
        }
      ]
    },
    {
      "cell_type": "code",
      "source": [
        "Ques 9. Write a Python program that uses `map()` to convert a list of temperatures from Celsius to Fahrenheit"
      ],
      "metadata": {
        "id": "0boC93VB20mc"
      },
      "execution_count": null,
      "outputs": []
    },
    {
      "cell_type": "code",
      "source": [
        "# Define a function to convert Celsius to Fahrenheit\n",
        "def celsius_to_fahrenheit(celsius):\n",
        "    return (celsius * 9/5) + 32\n",
        "\n",
        "# Define a list of temperatures in Celsius\n",
        "celsius_temperatures = [0, 10, 20, 30, 40]\n",
        "\n",
        "# Use map() to convert the temperatures to Fahrenheit\n",
        "fahrenheit_temperatures = list(map(celsius_to_fahrenheit, celsius_temperatures))\n",
        "\n",
        "# Print the converted temperatures\n",
        "print(\"Celsius Temperatures:\", celsius_temperatures)\n",
        "print(\"Fahrenheit Temperatures:\", fahrenheit_temperatures)\n",
        "\n"
      ],
      "metadata": {
        "colab": {
          "base_uri": "https://localhost:8080/"
        },
        "id": "O_pZYk7q3GgX",
        "outputId": "33ce7df0-5824-4521-b85b-cca9fc128c29"
      },
      "execution_count": 10,
      "outputs": [
        {
          "output_type": "stream",
          "name": "stdout",
          "text": [
            "Celsius Temperatures: [0, 10, 20, 30, 40]\n",
            "Fahrenheit Temperatures: [32.0, 50.0, 68.0, 86.0, 104.0]\n"
          ]
        }
      ]
    },
    {
      "cell_type": "code",
      "source": [
        "Ques 10. Create a Python program that uses `filter()` to remove all the vowels from a given string"
      ],
      "metadata": {
        "id": "GcNMDKi23PCU"
      },
      "execution_count": null,
      "outputs": []
    },
    {
      "cell_type": "code",
      "source": [
        "# Define a function to check if a character is a vowel\n",
        "def is_vowel(char):\n",
        "    return char.lower() in 'aeiou'\n",
        "\n",
        "# Define a string\n",
        "input_string = \"Hello, World!, Welcome to Assignment 3\"\n",
        "\n",
        "# Use filter() to remove vowels from the string\n",
        "vowel_free_string = ''.join(filter(lambda char: not is_vowel(char), input_string))\n",
        "\n",
        "# Print the original string and the vowel-free string\n",
        "print(\"Original String:\", input_string)\n",
        "print(\"Vowel-Free String:\", vowel_free_string)"
      ],
      "metadata": {
        "colab": {
          "base_uri": "https://localhost:8080/"
        },
        "id": "E2bI2FU73Wqh",
        "outputId": "6974b461-fd0b-4b44-8fd9-b532b8c67152"
      },
      "execution_count": 12,
      "outputs": [
        {
          "output_type": "stream",
          "name": "stdout",
          "text": [
            "Original String: Hello, World!, Welcome to Assignment 3\n",
            "Vowel-Free String: Hll, Wrld!, Wlcm t ssgnmnt 3\n"
          ]
        }
      ]
    },
    {
      "cell_type": "code",
      "source": [
        "Ques 11. Imagine an accounting routine used in a book shop. It works on a list with sublists, which look like this:\n",
        "\n",
        "Order Number\tBook Title and Author\t            Quantity\tPrice per Item\n",
        "34587        \tLearning Python, Mark Lutz\t         4\t        40.95\n",
        "98762\t        Programming Python, Mark Lutz\t       5\t        56.80\n",
        "77226\t        Head First Python, Paul Barry\t       3\t        32.95\n",
        "88112\t        Einführung in Python3, Bernd Klein\t 3\t        24.99\n",
        "\n",
        "Write a Python program, which returns a list with 2-tuples. Each tuple consists of the order number and the product of the price per item and the quantity.\n",
        "The product should be increased by 10,- € if the value of the order is smaller than 100,00 €.\n",
        "\n",
        "Write a Python program using lambda and map.\n"
      ],
      "metadata": {
        "id": "Y9OhGLUs3geW"
      },
      "execution_count": null,
      "outputs": []
    },
    {
      "cell_type": "code",
      "source": [
        "# Input data: List of sublists with order details\n",
        "orders = [\n",
        "    [34587, \"Learning Python, Mark Lutz\", 4, 40.95],\n",
        "    [98762, \"Programming Python, Mark Lutz\", 5, 56.80],\n",
        "    [77226, \"Head First Python, Paul Barry\", 3, 32.95],\n",
        "    [88112, \"Einführung in Python3, Bernd Klein\", 3, 24.99],\n",
        "]\n",
        "\n",
        "# Using map and lambda to process the data\n",
        "result = list(\n",
        "    map(\n",
        "        lambda x: (x[0], round(x[2] * x[3] + (10 if x[2] * x[3] < 100 else 0), 2)),\n",
        "        orders,\n",
        "    )\n",
        ")\n",
        "\n",
        "# Output the result\n",
        "print(result)"
      ],
      "metadata": {
        "colab": {
          "base_uri": "https://localhost:8080/"
        },
        "id": "mOA4H_xJ4Z3h",
        "outputId": "47bfd95d-2659-4ce2-db1e-f1b97b8dd7cf"
      },
      "execution_count": 13,
      "outputs": [
        {
          "output_type": "stream",
          "name": "stdout",
          "text": [
            "[(34587, 163.8), (98762, 284.0), (77226, 108.85), (88112, 84.97)]\n"
          ]
        }
      ]
    },
    {
      "cell_type": "markdown",
      "source": [],
      "metadata": {
        "id": "AX7LaAd33wtH"
      }
    }
  ]
}